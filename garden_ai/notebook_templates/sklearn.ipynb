{
  "cells": [
    {
      "cell_type": "markdown",
      "metadata": {
        "id": "H24yDUiVP5-n"
      },
      "source": [
        "## Your Model 🌱Garden🌱 Execution Environment\n",
        "\n",
        "In this notebook, you'll:\n",
        "1. Create the environment your model needs to run\n",
        "2. Get your model running, debugging right here\n",
        "3. Add your code and model to a Garden Pipeline\n",
        "4. Publish!\n",
        "\n",
        "Garden will take this notebook and build a container with it. When Garden executes your `@garden_entrypoint`, it will be like like you have just run all the cells of this notebook once. So you can install libraries with `!pip install` and your function can use those libraries. You can also define helper functions and constants to use in your `@garden_entrypoint`."
      ]
    },
    {
      "cell_type": "markdown",
      "metadata": {},
      "source": [
        "## Environment Set Up\n",
        "Use this section to install and import any packages you need for your model environment. We've included what you'll need from Garden and other packages you'll need for a sklearn model."
      ]
    },
    {
      "cell_type": "code",
      "execution_count": null,
      "metadata": {},
      "outputs": [],
      "source": [
        "#Install any packages you need here"
      ]
    },
    {
      "cell_type": "code",
      "execution_count": null,
      "metadata": {
        "id": "qww1_jOzP5S9"
      },
      "outputs": [],
      "source": [
        "#You need these from Garden. Keep them!\n",
        "from garden_ai.model_connectors import HFConnector\n",
        "from garden_ai import EntrypointMetadata, garden_entrypoint"
      ]
    },
    {
      "cell_type": "code",
      "execution_count": null,
      "metadata": {
        "id": "b0s7Bealdp8M"
      },
      "outputs": [],
      "source": [
        "#Import any other packages you need here\n",
        "import pandas as pd\n",
        "import sklearn\n",
        "import joblib"
      ]
    },
    {
      "cell_type": "markdown",
      "metadata": {},
      "source": [
        "## Get Your Model Running\n",
        "Now that you're environment is set up, get your model running! Be sure to include any additional functions (like pre and post procesing) that go with your model."
      ]
    },
    {
      "cell_type": "markdown",
      "metadata": {},
      "source": [
        "### Make Things Modular with Steps (optional)\n",
        "To make your work more reproducible and interpretable, consider breaking your code into different functions (if applicable). For example, preprocessing code would be its own function, running the model would be its own separate function, etc.\n",
        "\n",
        "These separate functions will be considered Steps in your Pipeline. Steps are a way to highlight the different stages of your workflow. Breaking the code down into steps helps others understand how your Pipeline works and what each part does. Each function will be considered its own distinct Step in your Pipeline.\n",
        "\n",
        "The first Step in a Pipeline will always be the Entrypoint. If you decide not to make Steps, you will have an Entrypoint without a Pipeline that runs the one function you have specified."
      ]
    },
    {
      "cell_type": "code",
      "execution_count": null,
      "metadata": {},
      "outputs": [],
      "source": [
        "def preprocess(input_df: pd.DataFrame) -> pd.DataFrame:\n",
        "    input_df.fillna(0, inplace=True)\n",
        "    return input_df"
      ]
    },
    {
      "cell_type": "markdown",
      "metadata": {
        "id": "3aikfsCRdrEZ"
      },
      "source": [
        "### Model connectors\n",
        "\n",
        "Model connectors let Garden import metadata about your model.\n",
        "They also have a `stage` method that you can use to download your model weights."
      ]
    },
    {
      "cell_type": "code",
      "execution_count": null,
      "metadata": {
        "id": "H7em6SwMdvkt"
      },
      "outputs": [],
      "source": [
        "my_hugging_face_repo = HFConnector(\"garden-ai/sample_sklearn_model\")"
      ]
    },
    {
      "cell_type": "markdown",
      "metadata": {},
      "source": [
        "### Stage Your HuggingFace Model\n",
        "This allows us get your model from HuggingFace and pull it into your Garden."
      ]
    },
    {
      "cell_type": "code",
      "execution_count": null,
      "metadata": {},
      "outputs": [],
      "source": [
        "def stage_model():\n",
        "    model_binary = garden_ai.hugging_face_connector(\n",
        "        repo_id = \"\", # add your huggingface repo ID\n",
        "        filename = \"\" # add the filename\n",
        "    )\n",
        "    \n",
        "    model = joblib.load(model_binary)\n",
        "    \n",
        "    return model"
      ]
    },
    {
      "cell_type": "markdown",
      "metadata": {
        "id": "FTziKOq7d1Qs"
      },
      "source": [
        "### Entrypoint metadata\n",
        "\n",
        "\n",
        "To publish your function, Garden needs metadata so that other users can discover it.\n",
        "Edit this EntrypointMetadata object to describe your function.\n"
      ]
    },
    {
      "cell_type": "code",
      "execution_count": null,
      "metadata": {
        "id": "PHtZD33NhCEF"
      },
      "outputs": [],
      "source": [
        "my_entrypoint_meta = EntrypointMetadata(\n",
        "    title=\"My Inference Function\",\n",
        "    description=\"Write a longer description here so that people know what your entrypoint does.\",\n",
        "    authors=[\"you\", \"your collaborator\"],\n",
        "    tags=[\"materials science\", \"your actual field\"]\n",
        ")"
      ]
    },
    {
      "cell_type": "markdown",
      "metadata": {
        "id": "bDPkWjAShSKr"
      },
      "source": [
        "## Write your entrypoint function that will run remotely\n",
        "\n",
        "Write a function that executes your model(s). Tag that function with the `@garden_entrypoint` decorator.\n",
        "\n",
        "The `@garden_entrypoint` decorator makes this function available to run in your garden when you publish the notebook.\n",
        "Download your model weights and call your model in this function.\n",
        "\n",
        "In the decorator be sure to include:\n",
        "- your entrypoint metadata,\n",
        "- connectors for any models you're using,\n",
        "- the DOI of the garden you want this entrypoint to be found in. (Check `garden-ai garden list` for the DOIs of your gardens.)"
      ]
    },
    {
      "cell_type": "code",
      "execution_count": null,
      "metadata": {
        "id": "6ls-44Wehec9"
      },
      "outputs": [],
      "source": [
        "@garden_entrypoint(metadata=my_entrypoint_meta,  model_connectors=[my_hugging_face_repo], garden_doi=\"10.23677/my-garden-doi\")\n",
        "def run_my_model(input_df: pd.DataFrame) -> pd.DataFrame:\n",
        "    cleaned_df = preprocess(input_df)\n",
        "    download_path = my_hugging_face_repo.stage()\n",
        "    model = joblib.load(f\"{download_path}/model.pkl\")\n",
        "    return model.predict(cleaned_df)"
      ]
    },
    {
      "cell_type": "markdown",
      "metadata": {
        "id": "dK3PHq2fhgxp"
      },
      "source": [
        "### Test your entrypoint function\n",
        "\n",
        "Finally, make sure your `@garden_entrypoint` works!\n",
        "When Garden makes a container from your notebook, it runs all the cells in order and saves the notebook. Then users invoke your `@garden_entrypoint` in the context of the notebook.\n",
        "\n",
        "If you can hit \"Kernel\" -> \"Restart and run all cells\" and your test below works, your `@garden_entrypoint` will work in your garden!\n"
      ]
    },
    {
      "cell_type": "code",
      "execution_count": null,
      "metadata": {
        "id": "pn2aa8wnhu2u"
      },
      "outputs": [],
      "source": [
        "# Replace with input that is relevant for your garden_entrypoint\n",
        "example_input = pd.DataFrame({\n",
        "    'A': [1, 2, None, 4],\n",
        "    'B': [None, 2, 3, 4],\n",
        "    'C': [1, 2, 3, 4]\n",
        "})\n",
        "run_my_model(example_input)"
      ]
    },
    {
      "cell_type": "markdown",
      "metadata": {},
      "source": [
        "## Register Your Pipeline with Garden\n",
        "Now it's time to register your pipeline with Garden. If you have more than one function, you'll list them in the order you'd like them executed."
      ]
    },
    {
      "cell_type": "code",
      "execution_count": null,
      "metadata": {},
      "outputs": [],
      "source": [
        "@garden_ai.pipeline(name=\"\") #name your pipeline\n",
        "\n",
        "def pipeline(input_data)\n",
        "    \n",
        "    #example pipeline. Fill in with your own pipeline functions\n",
        "    ready_data = preprocessing(input_data)\n",
        "    model = (stage_model)\n",
        "    \n",
        "    return model.predict(ready_data)\n",
        "                    "
      ]
    }
  ],
  "metadata": {
    "colab": {
      "provenance": []
    },
    "kernelspec": {
      "display_name": "Python 3",
      "name": "python3"
    },
    "language_info": {
      "name": "python"
    }
  },
  "nbformat": 4,
  "nbformat_minor": 0
}
